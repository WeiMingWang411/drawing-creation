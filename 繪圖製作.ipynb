{
 "cells": [
  {
   "cell_type": "code",
   "execution_count": 1,
   "id": "3ee6efda-02a2-418d-a47e-c43d98f64a52",
   "metadata": {},
   "outputs": [],
   "source": [
    "from PIL import Image\n",
    "pic=Image.open('/Users/wangyuzheng/Downloads/S__122986502.jpg')"
   ]
  },
  {
   "cell_type": "code",
   "execution_count": 2,
   "id": "2360fe64-8a45-4991-8444-3d5b868a94fc",
   "metadata": {
    "scrolled": true
   },
   "outputs": [
    {
     "name": "stdout",
     "output_type": "stream",
     "text": [
      "圖片寬度： 757\n",
      "圖片高度： 712\n"
     ]
    }
   ],
   "source": [
    "print('圖片寬度：',pic.width)\n",
    "print('圖片高度：',pic.height)"
   ]
  },
  {
   "cell_type": "code",
   "execution_count": 3,
   "id": "f9c48b9e-2fca-45cb-a6ea-2fe504d4fce6",
   "metadata": {},
   "outputs": [
    {
     "name": "stdout",
     "output_type": "stream",
     "text": [
      "圖片檔案格式： JPEG\n",
      "圖片高度： RGB\n",
      "圖片寬度： (757, 712)\n"
     ]
    }
   ],
   "source": [
    "print('圖片檔案格式：',pic.format)\n",
    "print('圖片高度：',pic.mode)\n",
    "print('圖片寬度：',pic.size)"
   ]
  },
  {
   "cell_type": "code",
   "execution_count": 4,
   "id": "4e6c7c74-0e52-44a2-8333-68e7f3c43f81",
   "metadata": {},
   "outputs": [],
   "source": [
    "pic.show()"
   ]
  },
  {
   "cell_type": "code",
   "execution_count": 5,
   "id": "0bfd46bb-5254-462e-87f5-15900ccb44e3",
   "metadata": {},
   "outputs": [
    {
     "name": "stdout",
     "output_type": "stream",
     "text": [
      "原本的圖片色彩模式： RGB\n",
      "轉換黑白後的的圖片色彩模式： RGB\n"
     ]
    }
   ],
   "source": [
    "print('原本的圖片色彩模式：',pic.mode)\n",
    "new_pic=pic.convert('1')\n",
    "new_pic.show()\n",
    "print('轉換黑白後的的圖片色彩模式：',pic.mode)"
   ]
  },
  {
   "cell_type": "code",
   "execution_count": 6,
   "id": "eb399b1f-a3d1-4ec0-8276-40b43a9f6885",
   "metadata": {},
   "outputs": [],
   "source": [
    "new_pic=pic.rotate(30)\n",
    "new_pic.show()"
   ]
  },
  {
   "cell_type": "code",
   "execution_count": 9,
   "id": "9da6915f-0f54-4663-a0ba-83ae97aab9d3",
   "metadata": {},
   "outputs": [],
   "source": [
    "new_pic=pic.rotate(-30)\n",
    "new_pic.show()"
   ]
  },
  {
   "cell_type": "code",
   "execution_count": 11,
   "id": "d53f385d-3398-4d71-8ed5-28bc9993ac07",
   "metadata": {},
   "outputs": [],
   "source": [
    "from PIL import Image\n",
    "from PIL import ImageFilter\n",
    "pic=Image.open('/Users/wangyuzheng/Downloads/S__122986502.jpg')"
   ]
  },
  {
   "cell_type": "code",
   "execution_count": 15,
   "id": "446bf0b5-4230-401e-9e46-e4293f35dbb5",
   "metadata": {},
   "outputs": [],
   "source": [
    "new_pic=pic.filter(ImageFilter.CONTOUR)\n",
    "new_pic.save('/Users/wangyuzheng/Desktop/未命名檔案夾/S__122986502.jpg')\n",
    "new_pic.show()"
   ]
  },
  {
   "cell_type": "code",
   "execution_count": 16,
   "id": "44205fd0-f9ef-4d75-ac77-8e6fbc2c02f1",
   "metadata": {},
   "outputs": [
    {
     "name": "stdout",
     "output_type": "stream",
     "text": [
      "原圖大小： (757, 712)\n",
      "縮放後圖形大小： (400, 400)\n"
     ]
    }
   ],
   "source": [
    "print('原圖大小：',pic.size)\n",
    "new_pic=pic.resize((400,400))\n",
    "print('縮放後圖形大小：',new_pic.size)\n",
    "new_pic.save('/Users/wangyuzheng/Desktop/未命名檔案夾/S__122986502.jpg')\n",
    "new_pic.show()"
   ]
  },
  {
   "cell_type": "code",
   "execution_count": 26,
   "id": "d2a0e815-f275-4b79-b5f3-e8a7d2bf9f14",
   "metadata": {},
   "outputs": [],
   "source": [
    "from PIL import Image, ImageFont, ImageDraw\n",
    "pic=Image.open('/Users/wangyuzheng/Downloads/S__122986502.jpg')"
   ]
  },
  {
   "cell_type": "code",
   "execution_count": 27,
   "id": "44611d54-8d87-4c81-bce3-53a807fa6b87",
   "metadata": {},
   "outputs": [],
   "source": [
    "t_font=ImageFont.truetype('/Library/Fonts/Arial.ttf',30)\n",
    "draw=ImageDraw.Draw(pic)\n",
    "\n",
    "draw.text((20, 30), '排球少年', font=t_font, fill=(255, 0, 0, 250))\n",
    "draw.text((20,100),'Haikyu!!',font=t_font, fill=(0,255,0,255))\n",
    "pic.show()"
   ]
  },
  {
   "cell_type": "code",
   "execution_count": null,
   "id": "1556d4c9-9215-4314-a211-d43da328ae08",
   "metadata": {},
   "outputs": [],
   "source": []
  },
  {
   "cell_type": "code",
   "execution_count": null,
   "id": "55065719-e670-48f5-a360-5f78bdef61d0",
   "metadata": {},
   "outputs": [],
   "source": []
  }
 ],
 "metadata": {
  "kernelspec": {
   "display_name": "Python 3 (ipykernel)",
   "language": "python",
   "name": "python3"
  },
  "language_info": {
   "codemirror_mode": {
    "name": "ipython",
    "version": 3
   },
   "file_extension": ".py",
   "mimetype": "text/x-python",
   "name": "python",
   "nbconvert_exporter": "python",
   "pygments_lexer": "ipython3",
   "version": "3.11.7"
  }
 },
 "nbformat": 4,
 "nbformat_minor": 5
}
